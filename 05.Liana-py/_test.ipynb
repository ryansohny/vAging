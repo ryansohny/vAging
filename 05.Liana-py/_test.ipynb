{
 "cells": [
  {
   "cell_type": "markdown",
   "metadata": {},
   "source": [
    "### Test"
   ]
  },
  {
   "cell_type": "code",
   "execution_count": null,
   "metadata": {},
   "outputs": [],
   "source": [
    "import liana as li\n",
    "from liana.mt import rank_aggregate\n",
    "import omnipath as op\n",
    "import decoulper as dc\n",
    "import scanpy as sc\n",
    "import numpy as np\n",
    "import pandas as pd\n",
    "import matplotlib.pyplot as plt\n",
    "import matplotlib\n",
    "matplotlib.use('Qt5Agg ')\n",
    "import seaborn as sns\n",
    "\n",
    "sns.set_theme(font=\"Arial\", font_scale=1, style='ticks')\n",
    "sc.settings.verbosity = 3\n",
    "plt.rcParams['figure.figsize'] = (6,6)\n",
    "plt.rcParams['figure.dpi'] = 100\n",
    "plt.rc(\"axes.spines\", top=False, right=False)\n",
    "\n",
    "# ipython에서 %matplotlib 으로 TkAgg로 바꾸면 Freezing됨.\n",
    "\n",
    "cmap = matplotlib.colors.LinearSegmentedColormap.from_list(\"\", [\"#104e8b\", \"#ffdab9\", \"#8b0a50\"])\n",
    "batch_palette=['#689aff', '#fdbf6f', '#b15928']\n",
    "\n",
    "# import all individual methods\n",
    "from liana.method import singlecellsignalr, connectome, cellphonedb, natmi, logfc, cellchat, geometric_mean"
   ]
  },
  {
   "cell_type": "markdown",
   "metadata": {},
   "source": [
    "##### Useful arguments"
   ]
  },
  {
   "cell_type": "code",
   "execution_count": null,
   "metadata": {},
   "outputs": [],
   "source": [
    "li.mt.show_methods()\n",
    "rank_aggregate.describe()\n",
    "li.resource.show_resources()\n",
    "['baccin2019',\n",
    " 'cellcall',\n",
    " 'cellchatdb',\n",
    " 'cellinker',\n",
    " 'cellphonedb',\n",
    " 'celltalkdb',\n",
    " 'connectomedb2020',\n",
    " 'consensus',\n",
    " 'embrace',\n",
    " 'guide2pharma',\n",
    " 'hpmr',\n",
    " 'icellnet',\n",
    " 'italk',\n",
    " 'kirouac2010',\n",
    " 'lrdb',\n",
    " 'mouseconsensus',\n",
    " 'ramilowski2015']"
   ]
  },
  {
   "cell_type": "markdown",
   "metadata": {},
   "source": [
    "### Preprocessing of whole cell populations"
   ]
  },
  {
   "cell_type": "code",
   "execution_count": null,
   "metadata": {},
   "outputs": [],
   "source": [
    "test3 = sc.read_h5ad(\"/data/Projects/phenomata/01.Projects/11.Vascular_Aging/03.Scanpy/test3.h5ad\")\n",
    "test3.obs['Age'] = test3.obs['batch']\n",
    "# test3.raw.X 는 log1p transformed scran normalized values\n",
    "\n",
    "leiden_to_celltype_dict = {'0': 'Vascular smooth muscle cells',\n",
    "'1': 'Vascular smooth muscle cells',\n",
    "'2': 'Vascular smooth muscle cells',\n",
    "'3': 'Fibroblasts',\n",
    "'4': 'Vascular smooth muscle cells',\n",
    "'5': 'Endothelial cells',\n",
    "'6': 'Fibroblasts',\n",
    "'7': 'Endothelial cells',\n",
    "'8': 'Vascular smooth muscle cells',\n",
    "'9': 'Fibroblasts',\n",
    "'10': 'B cells',\n",
    "'11': 'M\\u03A6',\n",
    "'12': 'T cells',\n",
    "'13': 'Neuronal cells'}\n",
    "test3.obs['celltype'] = test3.obs['leiden_r05'].map(lambda x: leiden_to_celltype_dict[x]).astype('category')\n",
    "\n",
    "lin = ('Endothelial cells', 'Vascular smooth muscle cells', 'Fibroblasts', 'B cells', 'M\\u03A6', 'T cells', 'Neuronal cells')\n",
    "test3.obs['Annotated Cell Types'] = test3.obs['celltype'].cat.reorder_categories(list(lin), ordered=True)\n",
    "\n",
    "celltype_abbrev = {'Endothelial cells': 'EC',\n",
    "                   'Vascular smooth muscle cells': 'vSMC',\n",
    "                   'Fibroblasts': 'FB',\n",
    "                   'B cells': 'Bc',\n",
    "                   'M\\u03A6': 'M\\u03A6',\n",
    "                   'T cells': 'Tc',\n",
    "                   'Neuronal cells': 'Neu'\n",
    "                   }\n",
    "test3.obs['celltype_abbrev'] = test3.obs['Annotated Cell Types'].map(lambda x: celltype_abbrev[x]).astype('category')\n",
    "test3.obs['Age_Celltype_Combined'] = test3.obs.apply(lambda x: f\"{x['Age']}_{x['celltype_abbrev']}\", axis=1)\n",
    "test3.obs['Age_Celltype_Combined'] = test3.obs['Age_Celltype_Combined'].astype('category')\n",
    "\n",
    "age_celltype_order = (\"m01_vSMC\", \"m10_vSMC\", \"m20_vSMC\", \"m01_FB\", \"m10_FB\", \"m20_FB\", \"m01_EC\", \"m10_EC\", \"m20_EC\", \"m01_Bc\", \"m10_Bc\", \"m20_Bc\", \"m01_MΦ\", \"m10_MΦ\", \"m20_MΦ\", \"m01_Tc\", \"m10_Tc\", \"m20_Tc\", \"m01_Neu\", \"m10_Neu\", \"m20_Neu\")\n",
    "test3.obs['Age_Celltype_Combined'] = test3.obs['Age_Celltype_Combined'].cat.reorder_categories(list(age_celltype_order), ordered=True)\n",
    "\n",
    "celltype_colormap = {'Endothelial cells': '#393b79',\n",
    "                     'Vascular smooth muscle cells': '#9c9ede',\n",
    "                     'Fibroblasts': '#b5cf6b',\n",
    "                     'B cells': '#e7ba52',\n",
    "                     'M\\u03A6': '#ad494a',\n",
    "                     'T cells': '#7b4173',\n",
    "                     'Neuronal cells': '#de9ed6'} #palette = 'tab20b'\n",
    "celltype_abbrev_colormap = {'EC': '#393b79',\n",
    "                            'vSMC': '#9c9ede',\n",
    "                            'FBs': '#b5cf6b',\n",
    "                            'Bc': '#e7ba52',\n",
    "                            'M\\u03A6': '#ad494a',\n",
    "                            'Tc': '#7b4173',\n",
    "                            'Neu': '#de9ed6'} #palette = 'tab20b'\n",
    "\n",
    "leiden_to_detailed_celltype_dict = {'0': 'vSMC1',\n",
    "                                    '1': 'vSMC2',\n",
    "                                    '2': 'vSMC3',\n",
    "                                    '3': 'FB1',\n",
    "                                    '4': 'vSMC4',\n",
    "                                    '5': 'EC1',\n",
    "                                    '6': 'FB2',\n",
    "                                    '7': 'EC2',\n",
    "                                    '8': 'vSMC5',\n",
    "                                    '9': 'FB3',\n",
    "                                    '10': 'Bc',\n",
    "                                    '11': 'M\\u03A6',\n",
    "                                    '12': 'Tc',\n",
    "                                    '13': 'Neu'}\n",
    "test3.obs['detailed_celltype'] = test3.obs['leiden_r05'].map(lambda x: leiden_to_detailed_celltype_dict[x]).astype('category')\n",
    "detailed_celltype_order = ('EC1', 'EC2', 'vSMC1', 'vSMC2', 'vSMC3', 'vSMC4', 'vSMC5', 'FB1', 'FB2', 'FB3', 'Bc', 'M\\u03A6', 'Tc', 'Neu')\n",
    "test3.obs['detailed_celltype'] = test3.obs['detailed_celltype'].cat.reorder_categories(list(detailed_celltype_order), ordered=True)\n",
    "\n",
    "test3.obs['Age_detailed_Celltype_Combined'] = test3.obs.apply(lambda x: f\"{x['Age']}_{x['detailed_celltype']}\", axis=1)\n",
    "test3.obs['Age_detailed_Celltype_Combined'] = test3.obs['Age_detailed_Celltype_Combined'].astype('category')\n",
    "\n",
    "detailed_celltype_colormap = {'EC1': '#393b79', \n",
    "                              'EC2': '#5254a3', \n",
    "                              'vSMC1': '#9c9ede', \n",
    "                              'vSMC2': '#637939', \n",
    "                              'vSMC3': '#b5cf6b', \n",
    "                              'vSMC4': '#cedb9c', \n",
    "                              'vSMC5': '#bd9e39', \n",
    "                              'FB1': '#e7ba52', \n",
    "                              'FB2': '#843c39', \n",
    "                              'FB3': '#ad494a', \n",
    "                              'Bc': '#e7969c', \n",
    "                              'MΦ': '#7b4173', \n",
    "                              'Tc': '#ce6dbd', \n",
    "                              'Neu': '#de9ed6'} #palette = 'tab20b'\n",
    "\n",
    "rand_is = np.random.permutation(list(range(test3.shape[0])))\n",
    "#sc.pl.umap(test3[rand_is,:], add_outline=False, legend_loc='on data', size=30, legend_fontsize=8, legend_fontoutline=1, color_map=cmap, color=['Mif'])"
   ]
  },
  {
   "cell_type": "markdown",
   "metadata": {},
   "source": [
    "### Starting from whole cells with GRN data"
   ]
  },
  {
   "cell_type": "code",
   "execution_count": null,
   "metadata": {},
   "outputs": [],
   "source": [
    "test3 = sc.read_h5ad(\"/data/Projects/phenomata/01.Projects/11.Vascular_Aging/03.Scanpy/pySCENIC/ALL/test3_pyscenic.h5ad\")"
   ]
  },
  {
   "cell_type": "markdown",
   "metadata": {},
   "source": [
    "### Breaking whole cells into three parts based on age groups"
   ]
  },
  {
   "cell_type": "code",
   "execution_count": null,
   "metadata": {},
   "outputs": [],
   "source": [
    "test3_m01 = test3[test3.obs['Age'] == 'm01'].copy()\n",
    "test3_m10 = test3[test3.obs['Age'] == 'm10'].copy()\n",
    "test3_m20 = test3[test3.obs['Age'] == 'm20'].copy()"
   ]
  },
  {
   "cell_type": "markdown",
   "metadata": {},
   "source": [
    "### Cell-cell communications analysis"
   ]
  },
  {
   "cell_type": "code",
   "execution_count": null,
   "metadata": {},
   "outputs": [],
   "source": [
    "# For CellPhoneDB\n",
    "## For Cell types\n",
    "cellphonedb(test3, groupby='celltype', expr_prop=0.25, min_cells=5, resource_name='mouseconsensus', verbose=True, key_added='cpdb_celltype_res')\n",
    "test3.uns['cpdb_celltype_res']\n",
    "\n",
    "## For Age+Detailed Cell types\n",
    "cellphonedb(test3, groupby='Age_detailed_Celltype_Combined', expr_prop=0.25, min_cells=5, resource_name='mouseconsensus', verbose=True, key_added='cpdb_age-detailed-celltype_res')\n",
    "\n",
    "'''From https://www.sc-best-practices.org/mechanisms/cell_cell_communication.html\n",
    "source and target columns represent the source/sender and target/receiver cell identity for each interaction, respectively\n",
    "\n",
    "*_props: represents the proportion of cells that express the entity.\n",
    "\n",
    "By default, in CellPhoneDB and LIANA, any interactions in which either entity is not expressed in above 10% of cells per cell type is considered as a false positive, under the assumption that since CCC occurs between cell types, a sufficient proportion of cells within should express the genes.\n",
    "\n",
    "*_means: entity expression mean per cell type\n",
    "\n",
    "lr_means: mean ligand-receptor expression, as a measure of ligand-receptor interaction magnitude\n",
    "\n",
    "cellphone_pvals: permutation-based p-values, as a measure of interaction specificity'''\n",
    "\n",
    "test3.uns['cpdb_age-detailed-celltype_res'][['ligand', 'ligand_means', 'ligand_props', 'receptor', 'receptor_means', 'receptor_props', 'source', 'target', 'lr_means', 'cellphone_pvals']]\n",
    "\n",
    "# Perform CellphoneDB separately for different age groups\n",
    "cellphonedb(test3_m01, groupby='detailed_celltype', expr_prop=0.25, min_cells=5, resource_name='mouseconsensus', verbose=True, key_added='cpdb_detailed_celltype_res')\n",
    "cellphonedb(test3_m10, groupby='detailed_celltype', expr_prop=0.25, min_cells=5, resource_name='mouseconsensus', verbose=True, key_added='cpdb_detailed_celltype_res')\n",
    "cellphonedb(test3_m20, groupby='detailed_celltype', expr_prop=0.25, min_cells=5, resource_name='mouseconsensus', verbose=True, key_added='cpdb_detailed_celltype_res')\n",
    "\n",
    "test3_m01.uns['cpdb_detailed_celltype_res'][['ligand', 'ligand_means', 'ligand_props', 'receptor', 'receptor_means', 'receptor_props', 'source', 'target', 'lr_means', 'cellphone_pvals']]\n",
    "test3_m10.uns['cpdb_detailed_celltype_res'][['ligand', 'ligand_means', 'ligand_props', 'receptor', 'receptor_means', 'receptor_props', 'source', 'target', 'lr_means', 'cellphone_pvals']]\n",
    "test3_m20.uns['cpdb_detailed_celltype_res'][['ligand', 'ligand_means', 'ligand_props', 'receptor', 'receptor_means', 'receptor_props', 'source', 'target', 'lr_means', 'cellphone_pvals']]\n",
    "\n",
    "\n",
    "test3_m20.uns['cpdb_detailed_celltype_res'][(test3_m20.uns['cpdb_detailed_celltype_res']['source'] == 'EC2') | (test3_m20.uns['cpdb_detailed_celltype_res']['target'] == 'EC2')][['ligand', 'ligand_means', 'ligand_props', 'receptor', 'receptor_means', 'receptor_props', 'source', 'target', 'lr_means', 'cellphone_pvals']].sort_values(by='cellphone_pvals').head(n=30)"
   ]
  },
  {
   "cell_type": "markdown",
   "metadata": {},
   "source": [
    "### on MacOS (scCODA)"
   ]
  },
  {
   "cell_type": "code",
   "execution_count": 42,
   "metadata": {},
   "outputs": [],
   "source": [
    "import scanpy as sc\n",
    "import pandas as pd\n",
    "from sccoda.util import cell_composition_data as dat\n",
    "from sccoda.util import data_visualization as viz\n",
    "import anndata"
   ]
  },
  {
   "cell_type": "code",
   "execution_count": 4,
   "metadata": {},
   "outputs": [
    {
     "data": {
      "text/plain": [
       "'/Users/mhryansohn/Desktop/01.Workspace/01.Projects/01.Vascular_Aging/github_vAging/vAging/05.Liana-py'"
      ]
     },
     "execution_count": 4,
     "metadata": {},
     "output_type": "execute_result"
    }
   ],
   "source": [
    "import os;os.getcwd()"
   ]
  },
  {
   "cell_type": "code",
   "execution_count": 54,
   "metadata": {},
   "outputs": [],
   "source": [
    "test3 = sc.read_h5ad(\"/Users/mhryansohn/Desktop/01.Workspace/01.Projects/01.Vascular_Aging/test3.h5ad\")\n",
    "test3.obs['Age'] = test3.obs['batch']\n",
    "leiden_to_detailed_celltype_dict = {'0': 'vSMC1',\n",
    "                                    '1': 'vSMC2',\n",
    "                                    '2': 'vSMC3',\n",
    "                                    '3': 'FB1',\n",
    "                                    '4': 'vSMC4',\n",
    "                                    '5': 'EC1',\n",
    "                                    '6': 'FB2',\n",
    "                                    '7': 'EC2',\n",
    "                                    '8': 'vSMC5',\n",
    "                                    '9': 'FB3',\n",
    "                                    '10': 'Bc',\n",
    "                                    '11': 'M\\u03A6',\n",
    "                                    '12': 'Tc',\n",
    "                                    '13': 'Neu'}\n",
    "test3.obs['detailed_celltype'] = test3.obs['leiden_r05'].map(lambda x: leiden_to_detailed_celltype_dict[x]).astype('category')"
   ]
  },
  {
   "cell_type": "code",
   "execution_count": 53,
   "metadata": {},
   "outputs": [],
   "source": [
    "test3_m01 = test3[test3.obs['Age'] == 'm01'].copy()\n",
    "test3_m10 = test3[test3.obs['Age'] == 'm10'].copy()\n",
    "test3_m20 = test3[test3.obs['Age'] == 'm20'].copy()\n",
    "test3_concat = anndata.concat([test3_m01, test3_m10, test3_m20])"
   ]
  },
  {
   "cell_type": "code",
   "execution_count": 59,
   "metadata": {},
   "outputs": [
    {
     "data": {
      "text/html": [
       "<div>\n",
       "<style scoped>\n",
       "    .dataframe tbody tr th:only-of-type {\n",
       "        vertical-align: middle;\n",
       "    }\n",
       "\n",
       "    .dataframe tbody tr th {\n",
       "        vertical-align: top;\n",
       "    }\n",
       "\n",
       "    .dataframe thead th {\n",
       "        text-align: right;\n",
       "    }\n",
       "</style>\n",
       "<table border=\"1\" class=\"dataframe\">\n",
       "  <thead>\n",
       "    <tr style=\"text-align: right;\">\n",
       "      <th></th>\n",
       "      <th>Group</th>\n",
       "    </tr>\n",
       "  </thead>\n",
       "  <tbody>\n",
       "    <tr>\n",
       "      <th>m01</th>\n",
       "      <td>Young</td>\n",
       "    </tr>\n",
       "    <tr>\n",
       "      <th>m10</th>\n",
       "      <td>Middle_Aged</td>\n",
       "    </tr>\n",
       "    <tr>\n",
       "      <th>m20</th>\n",
       "      <td>Old</td>\n",
       "    </tr>\n",
       "  </tbody>\n",
       "</table>\n",
       "</div>"
      ],
      "text/plain": [
       "           Group\n",
       "m01        Young\n",
       "m10  Middle_Aged\n",
       "m20          Old"
      ]
     },
     "execution_count": 59,
     "metadata": {},
     "output_type": "execute_result"
    }
   ],
   "source": [
    "cov_df = pd.DataFrame({\"Group\": [\"Young\", \"Middle_Aged\", \"Old\"]}, index=['m01', 'm10', 'm20'])\n",
    "cov_df"
   ]
  },
  {
   "cell_type": "code",
   "execution_count": 60,
   "metadata": {},
   "outputs": [],
   "source": [
    "data_test3 = dat.from_scanpy(\n",
    "    test3_concat,\n",
    "    cell_type_identifier='detailed_celltype',\n",
    "    sample_identifier='Age',\n",
    "    covariate_df=cov_df\n",
    ")"
   ]
  },
  {
   "cell_type": "code",
   "execution_count": 68,
   "metadata": {},
   "outputs": [
    {
     "data": {
      "text/html": [
       "<div>\n",
       "<style scoped>\n",
       "    .dataframe tbody tr th:only-of-type {\n",
       "        vertical-align: middle;\n",
       "    }\n",
       "\n",
       "    .dataframe tbody tr th {\n",
       "        vertical-align: top;\n",
       "    }\n",
       "\n",
       "    .dataframe thead th {\n",
       "        text-align: right;\n",
       "    }\n",
       "</style>\n",
       "<table border=\"1\" class=\"dataframe\">\n",
       "  <thead>\n",
       "    <tr style=\"text-align: right;\">\n",
       "      <th></th>\n",
       "      <th>Group</th>\n",
       "    </tr>\n",
       "    <tr>\n",
       "      <th>Age</th>\n",
       "      <th></th>\n",
       "    </tr>\n",
       "  </thead>\n",
       "  <tbody>\n",
       "    <tr>\n",
       "      <th>m01</th>\n",
       "      <td>Young</td>\n",
       "    </tr>\n",
       "    <tr>\n",
       "      <th>m10</th>\n",
       "      <td>Middle_Aged</td>\n",
       "    </tr>\n",
       "    <tr>\n",
       "      <th>m20</th>\n",
       "      <td>Old</td>\n",
       "    </tr>\n",
       "  </tbody>\n",
       "</table>\n",
       "</div>"
      ],
      "text/plain": [
       "           Group\n",
       "Age             \n",
       "m01        Young\n",
       "m10  Middle_Aged\n",
       "m20          Old"
      ]
     },
     "execution_count": 68,
     "metadata": {},
     "output_type": "execute_result"
    }
   ],
   "source": [
    "data_test3.obs"
   ]
  },
  {
   "cell_type": "code",
   "execution_count": 67,
   "metadata": {},
   "outputs": [
    {
     "ename": "KeyError",
     "evalue": "'Age'",
     "output_type": "error",
     "traceback": [
      "\u001b[0;31m---------------------------------------------------------------------------\u001b[0m",
      "\u001b[0;31mKeyError\u001b[0m                                  Traceback (most recent call last)",
      "File \u001b[0;32m~/opt/anaconda3/envs/liana/lib/python3.11/site-packages/pandas/core/indexes/base.py:3653\u001b[0m, in \u001b[0;36mIndex.get_loc\u001b[0;34m(self, key)\u001b[0m\n\u001b[1;32m   3652\u001b[0m \u001b[39mtry\u001b[39;00m:\n\u001b[0;32m-> 3653\u001b[0m     \u001b[39mreturn\u001b[39;00m \u001b[39mself\u001b[39;49m\u001b[39m.\u001b[39;49m_engine\u001b[39m.\u001b[39;49mget_loc(casted_key)\n\u001b[1;32m   3654\u001b[0m \u001b[39mexcept\u001b[39;00m \u001b[39mKeyError\u001b[39;00m \u001b[39mas\u001b[39;00m err:\n",
      "File \u001b[0;32m~/opt/anaconda3/envs/liana/lib/python3.11/site-packages/pandas/_libs/index.pyx:147\u001b[0m, in \u001b[0;36mpandas._libs.index.IndexEngine.get_loc\u001b[0;34m()\u001b[0m\n",
      "File \u001b[0;32m~/opt/anaconda3/envs/liana/lib/python3.11/site-packages/pandas/_libs/index.pyx:176\u001b[0m, in \u001b[0;36mpandas._libs.index.IndexEngine.get_loc\u001b[0;34m()\u001b[0m\n",
      "File \u001b[0;32mpandas/_libs/hashtable_class_helper.pxi:7080\u001b[0m, in \u001b[0;36mpandas._libs.hashtable.PyObjectHashTable.get_item\u001b[0;34m()\u001b[0m\n",
      "File \u001b[0;32mpandas/_libs/hashtable_class_helper.pxi:7088\u001b[0m, in \u001b[0;36mpandas._libs.hashtable.PyObjectHashTable.get_item\u001b[0;34m()\u001b[0m\n",
      "\u001b[0;31mKeyError\u001b[0m: 'Age'",
      "\nThe above exception was the direct cause of the following exception:\n",
      "\u001b[0;31mKeyError\u001b[0m                                  Traceback (most recent call last)",
      "Cell \u001b[0;32mIn[67], line 3\u001b[0m\n\u001b[1;32m      1\u001b[0m data_test3\u001b[39m.\u001b[39mvar\n\u001b[1;32m      2\u001b[0m viz\u001b[39m.\u001b[39mstacked_barplot(data_test3, feature_name\u001b[39m=\u001b[39m\u001b[39m\"\u001b[39m\u001b[39mGroup\u001b[39m\u001b[39m\"\u001b[39m)\n\u001b[0;32m----> 3\u001b[0m viz\u001b[39m.\u001b[39;49mstacked_barplot(data_test3, feature_name\u001b[39m=\u001b[39;49m\u001b[39m\"\u001b[39;49m\u001b[39mAge\u001b[39;49m\u001b[39m\"\u001b[39;49m)\n",
      "File \u001b[0;32m~/opt/anaconda3/envs/liana/lib/python3.11/site-packages/sccoda/util/data_visualization.py:153\u001b[0m, in \u001b[0;36mstacked_barplot\u001b[0;34m(data, feature_name, figsize, dpi, cmap, plot_legend, level_order)\u001b[0m\n\u001b[1;32m    151\u001b[0m     \u001b[39massert\u001b[39;00m \u001b[39mset\u001b[39m(level_order) \u001b[39m==\u001b[39m \u001b[39mset\u001b[39m(data\u001b[39m.\u001b[39mobs[feature_name]), \u001b[39m\"\u001b[39m\u001b[39mlevel order is inconsistent with levels\u001b[39m\u001b[39m\"\u001b[39m\n\u001b[1;32m    152\u001b[0m     levels \u001b[39m=\u001b[39m level_order\n\u001b[0;32m--> 153\u001b[0m \u001b[39melif\u001b[39;00m \u001b[39mhasattr\u001b[39m(data\u001b[39m.\u001b[39;49mobs[feature_name], \u001b[39m'\u001b[39m\u001b[39mcat\u001b[39m\u001b[39m'\u001b[39m):\n\u001b[1;32m    154\u001b[0m     levels \u001b[39m=\u001b[39m data\u001b[39m.\u001b[39mobs[feature_name]\u001b[39m.\u001b[39mcat\u001b[39m.\u001b[39mcategories\u001b[39m.\u001b[39mto_list()\n\u001b[1;32m    155\u001b[0m \u001b[39melse\u001b[39;00m:\n",
      "File \u001b[0;32m~/opt/anaconda3/envs/liana/lib/python3.11/site-packages/pandas/core/frame.py:3761\u001b[0m, in \u001b[0;36mDataFrame.__getitem__\u001b[0;34m(self, key)\u001b[0m\n\u001b[1;32m   3759\u001b[0m \u001b[39mif\u001b[39;00m \u001b[39mself\u001b[39m\u001b[39m.\u001b[39mcolumns\u001b[39m.\u001b[39mnlevels \u001b[39m>\u001b[39m \u001b[39m1\u001b[39m:\n\u001b[1;32m   3760\u001b[0m     \u001b[39mreturn\u001b[39;00m \u001b[39mself\u001b[39m\u001b[39m.\u001b[39m_getitem_multilevel(key)\n\u001b[0;32m-> 3761\u001b[0m indexer \u001b[39m=\u001b[39m \u001b[39mself\u001b[39;49m\u001b[39m.\u001b[39;49mcolumns\u001b[39m.\u001b[39;49mget_loc(key)\n\u001b[1;32m   3762\u001b[0m \u001b[39mif\u001b[39;00m is_integer(indexer):\n\u001b[1;32m   3763\u001b[0m     indexer \u001b[39m=\u001b[39m [indexer]\n",
      "File \u001b[0;32m~/opt/anaconda3/envs/liana/lib/python3.11/site-packages/pandas/core/indexes/base.py:3655\u001b[0m, in \u001b[0;36mIndex.get_loc\u001b[0;34m(self, key)\u001b[0m\n\u001b[1;32m   3653\u001b[0m     \u001b[39mreturn\u001b[39;00m \u001b[39mself\u001b[39m\u001b[39m.\u001b[39m_engine\u001b[39m.\u001b[39mget_loc(casted_key)\n\u001b[1;32m   3654\u001b[0m \u001b[39mexcept\u001b[39;00m \u001b[39mKeyError\u001b[39;00m \u001b[39mas\u001b[39;00m err:\n\u001b[0;32m-> 3655\u001b[0m     \u001b[39mraise\u001b[39;00m \u001b[39mKeyError\u001b[39;00m(key) \u001b[39mfrom\u001b[39;00m \u001b[39merr\u001b[39;00m\n\u001b[1;32m   3656\u001b[0m \u001b[39mexcept\u001b[39;00m \u001b[39mTypeError\u001b[39;00m:\n\u001b[1;32m   3657\u001b[0m     \u001b[39m# If we have a listlike key, _check_indexing_error will raise\u001b[39;00m\n\u001b[1;32m   3658\u001b[0m     \u001b[39m#  InvalidIndexError. Otherwise we fall through and re-raise\u001b[39;00m\n\u001b[1;32m   3659\u001b[0m     \u001b[39m#  the TypeError.\u001b[39;00m\n\u001b[1;32m   3660\u001b[0m     \u001b[39mself\u001b[39m\u001b[39m.\u001b[39m_check_indexing_error(key)\n",
      "\u001b[0;31mKeyError\u001b[0m: 'Age'"
     ]
    },
    {
     "data": {
      "image/png": "[encoded data removed]",
      "text/plain": [
       "<Figure size 640x480 with 1 Axes>"
      ]
     },
     "metadata": {},
     "output_type": "display_data"
    }
   ],
   "source": [
    "data_test3.var\n",
    "viz.stacked_barplot(data_test3, feature_name=\"Group\")\n",
    "viz.stacked_barplot(data_test3, feature_name=\"Age\")"
   ]
  },
  {
   "cell_type": "code",
   "execution_count": null,
   "metadata": {},
   "outputs": [],
   "source": []
  }
 ],
 "metadata": {
  "kernelspec": {
   "display_name": "base",
   "language": "python",
   "name": "python3"
  },
  "language_info": {
   "codemirror_mode": {
    "name": "ipython",
    "version": 3
   },
   "file_extension": ".py",
   "mimetype": "text/x-python",
   "name": "python",
   "nbconvert_exporter": "python",
   "pygments_lexer": "ipython3",
   "version": "3.11.4"
  },
  "orig_nbformat": 4
 },
 "nbformat": 4,
 "nbformat_minor": 2
}
